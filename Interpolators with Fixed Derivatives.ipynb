{
 "cells": [
  {
   "cell_type": "code",
   "execution_count": 1,
   "metadata": {
    "collapsed": true
   },
   "outputs": [],
   "source": [
    "import trig_poly\n",
    "import dual_certificates\n",
    "import test_data\n",
    "import numpy as np\n",
    "import plt_util\n",
    "import phase_transition\n",
    "from matplotlib import pyplot as plt\n",
    "\n",
    "%matplotlib inline"
   ]
  },
  {
   "cell_type": "code",
   "execution_count": 102,
   "metadata": {
    "collapsed": false
   },
   "outputs": [],
   "source": [
    "reload(test_data)\n",
    "reload(dual_certificates)\n",
    "reload(trig_poly)\n",
    "\n",
    "m = 10\n",
    "fc = 50\n",
    "min_separation = 0.9 / fc\n",
    "N = int(1.0 / min_separation)\n",
    "\n",
    "kernel = trig_poly.TrigPoly.dirichlet(fc)\n",
    "\n",
    "support = test_data.jittered_supports(N, min_separation=min_separation)\n",
    "sign_pattern = test_data.uniform_sign_pattern_multidim(N, m)"
   ]
  },
  {
   "cell_type": "code",
   "execution_count": 110,
   "metadata": {
    "collapsed": true
   },
   "outputs": [],
   "source": [
    "derivatives = np.random.normal(size=(N, m)) + 1j * np.random.normal(size=(N, m))\n",
    "# derivatives = np.zeros((N, m))"
   ]
  },
  {
   "cell_type": "code",
   "execution_count": 97,
   "metadata": {
    "collapsed": false
   },
   "outputs": [],
   "source": [
    "time_deltas = np.outer(support, np.ones(N)) - np.outer(np.ones(N), support)\n",
    "\n",
    "kernel_1 = kernel.derivative()\n",
    "kernel_2 = kernel_1.derivative()\n",
    "\n",
    "kernel_values = kernel(time_deltas)\n",
    "kernel_1_values = kernel_1(time_deltas)\n",
    "kernel_2_values = kernel_2(time_deltas)\n",
    "\n",
    "multiplier = 100.0\n",
    "problem_mx = np.bmat([\n",
    "    [kernel_values, kernel_1_values / multiplier],\n",
    "    [kernel_1_values / multiplier, kernel_2_values / multiplier / multiplier]])"
   ]
  },
  {
   "cell_type": "code",
   "execution_count": 98,
   "metadata": {
    "collapsed": false,
    "scrolled": true
   },
   "outputs": [
    {
     "data": {
      "text/plain": [
       "<matplotlib.colorbar.Colorbar at 0x10da05790>"
      ]
     },
     "execution_count": 98,
     "metadata": {},
     "output_type": "execute_result"
    },
    {
     "data": {
      "image/png": "[encoded data removed]",
      "text/plain": [
       "<matplotlib.figure.Figure at 0x10897f590>"
      ]
     },
     "metadata": {},
     "output_type": "display_data"
    }
   ],
   "source": [
    "plt.imshow(problem_mx.real)\n",
    "plt.colorbar()"
   ]
  },
  {
   "cell_type": "code",
   "execution_count": 100,
   "metadata": {
    "collapsed": false
   },
   "outputs": [
    {
     "data": {
      "text/plain": [
       "array([ -5.11537934e+00 -7.63784631e-26j,\n",
       "        -5.08431675e+00 +5.13392605e-26j,\n",
       "        -4.94526655e+00 -1.08925378e-21j,\n",
       "        -4.91966186e+00 -3.54087577e-23j,\n",
       "        -4.78615418e+00 -1.85546381e-15j,\n",
       "        -4.76613002e+00 -8.08272635e-16j,\n",
       "        -4.62207572e+00 +2.01353154e-20j,\n",
       "        -4.63703205e+00 -2.64579761e-20j,\n",
       "        -4.48688774e+00 -1.09940252e-19j,\n",
       "        -4.49738374e+00 +1.86591948e-19j,\n",
       "        -4.36023695e+00 -7.69635356e-20j,\n",
       "        -4.36686140e+00 -3.15890259e-20j,\n",
       "        -4.24190043e+00 -2.85816135e-23j,\n",
       "        -4.24519286e+00 +2.95395776e-21j,\n",
       "        -4.13169976e+00 +1.00232402e-18j,\n",
       "        -4.13214448e+00 +2.12357793e-18j,\n",
       "        -4.02947509e+00 +4.58849667e-16j,\n",
       "        -4.02750410e+00 +8.40327050e-16j,\n",
       "        -3.93507340e+00 -8.48885339e-17j,\n",
       "        -3.93107280e+00 -3.43601470e-16j,\n",
       "        -3.84266101e+00 +2.91673515e-19j,\n",
       "        -3.84834337e+00 +3.31636201e-18j,\n",
       "        -3.76913348e+00 +6.78044357e-19j,\n",
       "        -3.76208705e+00 +3.87127369e-19j,\n",
       "        -3.69729170e+00 +2.55490574e-17j,\n",
       "        -3.68917700e+00 +6.00403713e-18j,\n",
       "        -3.62376545e+00 +1.48434867e-17j,\n",
       "        -3.63266601e+00 +2.51669447e-16j,\n",
       "        -3.56569663e+00 -2.18122415e-18j,\n",
       "        -3.57510515e+00 -2.63606160e-16j,\n",
       "        -3.51482589e+00 +1.27572438e-18j,\n",
       "        -3.52445944e+00 +3.82968683e-16j,\n",
       "        -3.47102117e+00 +6.91494686e-18j,\n",
       "        -3.43416454e+00 +2.81262737e-17j,\n",
       "        -3.48058153e+00 -6.57042839e-17j,\n",
       "        -3.40415356e+00 +2.19230379e-16j,\n",
       "        -3.35187705e+00 -3.81195141e-20j,\n",
       "        -3.44332724e+00 +1.56076413e-16j,\n",
       "        -3.38090262e+00 +7.32107690e-17j,\n",
       "        -3.41255693e+00 +4.48834332e-16j,\n",
       "        -3.36434396e+00 -8.00157256e-17j,\n",
       "        -3.35788751e+00 -7.17282747e-17j,\n",
       "        -3.36994913e+00 -7.36748079e-17j,\n",
       "        -3.35442856e+00 -1.03366289e-16j,\n",
       "        -3.38813795e+00 +3.26820418e-16j,\n",
       "        -1.93641862e-01 -4.02492927e-26j,\n",
       "         5.07605929e-01 -2.44193559e-20j,\n",
       "         5.08693831e-01 -4.51389202e-20j,\n",
       "         5.64949345e-01 +5.28124627e-22j,\n",
       "         5.24581844e-01 +1.32424402e-20j,\n",
       "         5.26318529e-01 -4.89833129e-20j,\n",
       "         5.37119300e-01 -5.59318157e-19j,\n",
       "         5.39201995e-01 +2.78993363e-19j,\n",
       "         5.49539733e-01 +7.12974911e-21j,\n",
       "         5.45411283e-01 -1.34028567e-19j,\n",
       "         5.47257694e-01 -7.43380682e-20j,\n",
       "         7.24512308e-01 +8.72493799e-19j,\n",
       "         7.21231111e-01 +6.90779729e-19j,\n",
       "         8.22405461e-01 +3.13131360e-17j,\n",
       "         7.45432743e-01 -2.54302176e-18j,\n",
       "         7.49007911e-01 -6.57908403e-19j,\n",
       "         7.69803022e-01 +6.37698686e-18j,\n",
       "         7.73489017e-01 +6.18054806e-18j,\n",
       "         7.94252420e-01 +1.73152972e-17j,\n",
       "         7.97979656e-01 -1.18249008e-17j,\n",
       "         8.18674685e-01 -3.46834310e-17j,\n",
       "         8.42950857e-01 +1.94494016e-16j,\n",
       "         8.46660452e-01 +1.26097977e-17j,\n",
       "         8.66951486e-01 -3.84731221e-19j,\n",
       "         8.70621706e-01 +2.58521017e-19j,\n",
       "         9.39362956e-01 +1.28473958e-19j,\n",
       "         8.90538481e-01 +5.14004285e-20j,\n",
       "         8.94154984e-01 +2.52183194e-20j,\n",
       "         9.13566977e-01 +1.57331561e-19j,\n",
       "         9.17117994e-01 +2.21490244e-19j,\n",
       "         9.35887321e-01 -6.62557400e-20j,\n",
       "         9.57347206e-01 +1.45924505e-19j,\n",
       "         9.77793960e-01 +4.30068537e-20j,\n",
       "         9.81094272e-01 -1.76612581e-19j,\n",
       "         1.09987597e+00 +5.11841698e-21j,\n",
       "         1.09903790e+00 -9.60101790e-19j,\n",
       "         1.09799726e+00 +1.93601246e-20j,\n",
       "         9.97076949e-01 -7.26581724e-20j,\n",
       "         1.00027870e+00 -3.87891012e-22j,\n",
       "         1.01505010e+00 -3.61566765e-18j,\n",
       "         1.09583096e+00 -2.91368476e-18j,\n",
       "         1.09421273e+00 -3.92793797e-17j,\n",
       "         1.03157456e+00 -1.61371406e-20j,\n",
       "         1.03455540e+00 -4.90051061e-20j,\n",
       "         1.07123582e+00 -6.66285003e-17j,\n",
       "         1.07377167e+00 -1.41539354e-16j,\n",
       "         1.01814584e+00 -5.15547547e-17j,\n",
       "         1.08082570e+00 +8.82920062e-17j,\n",
       "         1.08314285e+00 +1.07705582e-16j,\n",
       "         9.60738956e-01 -2.02598436e-19j,\n",
       "         1.04937535e+00 -1.09013252e-19j,\n",
       "         1.04652144e+00 +1.25238251e-21j,\n",
       "         1.05977493e+00 -2.19595734e-19j,\n",
       "         1.06248395e+00 -2.27073183e-19j,\n",
       "         1.08849199e+00 +1.58847704e-20j,\n",
       "         1.09051720e+00 -5.28956084e-19j,\n",
       "        -1.62731664e-14 +3.83528560e-18j,\n",
       "         1.23394800e-14 +2.02839297e-18j,\n",
       "        -8.07158140e-15 +3.05155761e-18j,\n",
       "         5.58232965e-15 -3.98159373e-18j,\n",
       "        -5.08978511e-15 -6.83819155e-19j,\n",
       "        -3.13434986e-15 -6.89277159e-18j,\n",
       "         2.51966340e-15 +9.16170203e-18j,\n",
       "         1.13653617e-16 -2.30187200e-18j,  -6.51753271e-16 +2.33508352e-19j])"
      ]
     },
     "execution_count": 100,
     "metadata": {},
     "output_type": "execute_result"
    }
   ],
   "source": [
    "np.linalg.eigvals(problem_mx)"
   ]
  },
  {
   "cell_type": "code",
   "execution_count": 111,
   "metadata": {
    "collapsed": false
   },
   "outputs": [],
   "source": [
    "reload(dual_certificates)\n",
    "interpolator = dual_certificates.interpolate_multidim_fixed_derivatives(support, sign_pattern, kernel, derivatives)"
   ]
  },
  {
   "cell_type": "code",
   "execution_count": 112,
   "metadata": {
    "collapsed": false,
    "scrolled": false
   },
   "outputs": [
    {
     "data": {
      "image/png": "[encoded data removed]",
      "text/plain": [
       "<matplotlib.figure.Figure at 0x10a76c750>"
      ]
     },
     "metadata": {},
     "output_type": "display_data"
    }
   ],
   "source": [
    "plt.subplots(figsize=(8, 5))\n",
    "\n",
    "plt_util.plot_trig_poly_magnitude(interpolator)\n",
    "plt_util.plot_support_magnitude_lines(support)\n",
    "plt_util.plot_magnitude_bounds()"
   ]
  },
  {
   "cell_type": "code",
   "execution_count": 113,
   "metadata": {
    "collapsed": false
   },
   "outputs": [
    {
     "data": {
      "text/plain": [
       "array([  6.76244276 -0.78091725j, -13.40305816 -1.24655622j,\n",
       "         6.07381082 -9.39251122j,   7.51468134 -4.8313001j ,\n",
       "       -11.04734100 -2.35946847j,   1.05704295 -0.91143594j,\n",
       "        10.36587571 -8.45308196j, -11.36052022 +9.39068149j,\n",
       "         7.66802159-12.62444661j,   5.50444084 +6.29161457j])"
      ]
     },
     "execution_count": 113,
     "metadata": {},
     "output_type": "execute_result"
    }
   ],
   "source": [
    "interpolator.derivative()(support[0])[:, 0]"
   ]
  },
  {
   "cell_type": "code",
   "execution_count": 114,
   "metadata": {
    "collapsed": false,
    "scrolled": true
   },
   "outputs": [
    {
     "name": "stdout",
     "output_type": "stream",
     "text": [
      "35.9456818016\n",
      "108.70676237\n",
      "108.634566009\n",
      "135.430121379\n",
      "159.170652478\n",
      "44.3247735924\n",
      "72.1030796838\n",
      "34.5764411403\n",
      "33.5430186318\n",
      "43.6737203917\n",
      "39.2196367479\n",
      "27.254158678\n",
      "41.4401554209\n",
      "80.8888133145\n",
      "58.291898808\n",
      "76.5992547768\n",
      "93.72738498\n",
      "35.1700121702\n",
      "48.7877037701\n",
      "47.2108143854\n",
      "25.142365674\n",
      "61.7677747375\n",
      "65.5908980593\n",
      "55.5024459102\n",
      "55.1271509099\n",
      "29.7134874673\n",
      "104.621369675\n",
      "112.567194889\n",
      "25.7555776724\n",
      "36.7961061839\n",
      "67.8526919134\n",
      "58.0237711649\n",
      "96.2399703473\n",
      "36.8294121079\n",
      "101.573838727\n",
      "93.8941736804\n",
      "35.2378294667\n",
      "86.2820050133\n",
      "97.5886598511\n",
      "34.9498868587\n",
      "70.9949460488\n",
      "55.8489682767\n",
      "24.0443010286\n",
      "41.520921937\n",
      "20.6283517634\n",
      "33.8918786442\n",
      "52.0025826909\n",
      "46.5775979719\n",
      "88.223968328\n",
      "41.5239107927\n",
      "52.102886654\n",
      "81.1050137184\n",
      "70.9939638171\n",
      "75.8118835701\n",
      "74.291979058\n"
     ]
    }
   ],
   "source": [
    "for i in range(N):\n",
    "    print np.linalg.norm(interpolator.derivative()(support[i])[:, 0] - derivatives[i, :])"
   ]
  },
  {
   "cell_type": "code",
   "execution_count": null,
   "metadata": {
    "collapsed": true
   },
   "outputs": [],
   "source": []
  }
 ],
 "metadata": {
  "kernelspec": {
   "display_name": "Python 2",
   "language": "python",
   "name": "python2"
  },
  "language_info": {
   "codemirror_mode": {
    "name": "ipython",
    "version": 2
   },
   "file_extension": ".py",
   "mimetype": "text/x-python",
   "name": "python",
   "nbconvert_exporter": "python",
   "pygments_lexer": "ipython2",
   "version": "2.7.13"
  }
 },
 "nbformat": 4,
 "nbformat_minor": 0
}
