{
 "cells": [
  {
   "cell_type": "code",
   "execution_count": 1,
   "metadata": {
    "collapsed": true
   },
   "outputs": [],
   "source": [
    "import trig_poly\n",
    "import dual_certificates\n",
    "import test_data\n",
    "import numpy as np\n",
    "import plt_util\n",
    "\n",
    "%matplotlib inline"
   ]
  },
  {
   "cell_type": "code",
   "execution_count": 2,
   "metadata": {
    "collapsed": false
   },
   "outputs": [],
   "source": [
    "reload(test_data)\n",
    "reload(dual_certificates)\n",
    "\n",
    "N = 8\n",
    "m = 4\n",
    "fc = 30\n",
    "min_separation = 0.25 / N\n",
    "\n",
    "kernel = trig_poly.TrigPoly.dirichlet(fc)\n",
    "\n",
    "support = test_data.uniform_supports(N, min_separation=min_separation)\n",
    "sign_pattern = test_data.uniform_sign_pattern_multidim(N, m)\n",
    "\n",
    "interpolator_1 = dual_certificates.interpolate_multidim(support, sign_pattern, kernel)"
   ]
  },
  {
   "cell_type": "code",
   "execution_count": 3,
   "metadata": {
    "collapsed": false,
    "scrolled": true
   },
   "outputs": [
    {
     "data": {
      "image/png": "[encoded data removed]",
      "text/plain": [
       "<matplotlib.figure.Figure at 0x10d5f5a10>"
      ]
     },
     "metadata": {},
     "output_type": "display_data"
    }
   ],
   "source": [
    "reload(plt_util)\n",
    "plt_util.plot_trig_poly_magnitude(interpolator_1)\n",
    "plt_util.plot_support_magnitude_lines(support)\n",
    "plt_util.plot_magnitude_bounds()"
   ]
  },
  {
   "cell_type": "code",
   "execution_count": 4,
   "metadata": {
    "collapsed": false,
    "scrolled": true
   },
   "outputs": [
    {
     "data": {
      "text/plain": [
       "array([-0.08566739-0.07479303j, -0.60142093-0.33267824j,\n",
       "        0.46416415+0.03253649j, -0.41676883-0.35281995j])"
      ]
     },
     "execution_count": 4,
     "metadata": {},
     "output_type": "execute_result"
    }
   ],
   "source": [
    "sign_pattern[0, :]"
   ]
  },
  {
   "cell_type": "code",
   "execution_count": 5,
   "metadata": {
    "collapsed": false
   },
   "outputs": [
    {
     "data": {
      "text/plain": [
       "array([[-0.08566739-0.07479303j],\n",
       "       [-0.60142093-0.33267824j],\n",
       "       [ 0.46416415+0.03253649j],\n",
       "       [-0.41676883-0.35281995j]])"
      ]
     },
     "execution_count": 5,
     "metadata": {},
     "output_type": "execute_result"
    }
   ],
   "source": [
    "interpolator_1(support[0])"
   ]
  },
  {
   "cell_type": "code",
   "execution_count": 6,
   "metadata": {
    "collapsed": false
   },
   "outputs": [
    {
     "data": {
      "text/plain": [
       "{'bound_achieved': False, 'status': False, 'values_achieved': False}"
      ]
     },
     "execution_count": 6,
     "metadata": {},
     "output_type": "execute_result"
    }
   ],
   "source": [
    "reload(dual_certificates)\n",
    "dual_certificates.validate(support, sign_pattern, interpolator_1)"
   ]
  },
  {
   "cell_type": "code",
   "execution_count": null,
   "metadata": {
    "collapsed": true
   },
   "outputs": [],
   "source": []
  }
 ],
 "metadata": {
  "kernelspec": {
   "display_name": "Python 2",
   "language": "python",
   "name": "python2"
  },
  "language_info": {
   "codemirror_mode": {
    "name": "ipython",
    "version": 2
   },
   "file_extension": ".py",
   "mimetype": "text/x-python",
   "name": "python",
   "nbconvert_exporter": "python",
   "pygments_lexer": "ipython2",
   "version": "2.7.13"
  }
 },
 "nbformat": 4,
 "nbformat_minor": 0
}
